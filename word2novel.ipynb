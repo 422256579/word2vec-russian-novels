{
 "cells": [
  {
   "cell_type": "code",
   "execution_count": 21,
   "metadata": {
    "collapsed": false
   },
   "outputs": [],
   "source": [
    "import os\n",
    "import re\n",
    "import gensim\n",
    "import pymorphy2"
   ]
  },
  {
   "cell_type": "code",
   "execution_count": null,
   "metadata": {
    "collapsed": true
   },
   "outputs": [],
   "source": [
    "model = gensim.models.KeyedVectors.load_word2vec_format(\"ruwikiruscorpora_0_300_20.bin.gz\", binary=True)\n",
    "model.init_sims(replace=True)"
   ]
  },
  {
   "cell_type": "code",
   "execution_count": 22,
   "metadata": {
    "collapsed": false
   },
   "outputs": [],
   "source": [
    "morph = pymorphy2.MorphAnalyzer()\n",
    "punct = re.compile('^(.*?)([а-яА-ЯёЁ-]+)(.*?)$')\n",
    "capit = re.compile('^[А-Я]+$')"
   ]
  },
  {
   "cell_type": "code",
   "execution_count": 16,
   "metadata": {
    "collapsed": true
   },
   "outputs": [],
   "source": [
    "pth_source = 'books_before/'\n",
    "lst = os.listdir(pth_soursce)"
   ]
  },
  {
   "cell_type": "code",
   "execution_count": 34,
   "metadata": {
    "collapsed": true
   },
   "outputs": [],
   "source": [
    "cotags = {'ADJF':'ADJ', # pymorphy2: word2vec \n",
    "'ADJS' : 'ADJ', \n",
    "'ADVB' : 'ADV', \n",
    "'COMP' : 'ADV', \n",
    "'GRND' : 'VERB', \n",
    "'INFN' : 'VERB', \n",
    "'NOUN' : 'NOUN', \n",
    "'PRED' : 'ADV', \n",
    "'PRTF' : 'ADJ', \n",
    "'PRTS' : 'VERB', \n",
    "'VERB' : 'VERB'}"
   ]
  },
  {
   "cell_type": "markdown",
   "metadata": {},
   "source": [
    "#### todo\n",
    "\n",
    "* capitalize\n",
    "* pos detection\n",
    "* cashing of word2vec queries\n",
    "* 1st form extraction from pymorphy2 parse of word2vec response\n",
    "* pos matching for most similar words\n",
    "* names detection and excluding from the process"
   ]
  },
  {
   "cell_type": "code",
   "execution_count": null,
   "metadata": {
    "collapsed": true
   },
   "outputs": [],
   "source": [
    "def find_word(word):\n",
    "    pass"
   ]
  },
  {
   "cell_type": "code",
   "execution_count": 33,
   "metadata": {
    "collapsed": false
   },
   "outputs": [
    {
     "data": {
      "text/plain": [
       "[('теплый_ADJ', 0.6912842392921448),\n",
       " ('холод_NOUN', 0.6222048997879028),\n",
       " ('прохладный_ADJ', 0.6178681254386902),\n",
       " ('влажный_ADJ', 0.6009092926979065),\n",
       " ('жаркий_ADJ', 0.5878441333770752),\n",
       " ('горячий_ADJ', 0.5811808109283447),\n",
       " ('ледяной_ADJ', 0.5738131999969482),\n",
       " ('сухой_ADJ', 0.5681436657905579),\n",
       " ('сырой_ADJ', 0.5447033643722534),\n",
       " ('холодно_ADV', 0.5389620661735535)]"
      ]
     },
     "execution_count": 33,
     "metadata": {},
     "output_type": "execute_result"
    }
   ],
   "source": [
    "model.most_similar(['холодный_ADJ'])"
   ]
  },
  {
   "cell_type": "code",
   "execution_count": 31,
   "metadata": {
    "collapsed": false
   },
   "outputs": [
    {
     "name": "stdout",
     "output_type": "stream",
     "text": [
      "FathersAndSons.txt\n",
      "('', 'ОТЦЫ', '')\n",
      "('', 'И', '')\n",
      "('', 'ДЕТИ', '')\n",
      "('', 'Посвящается', '')\n",
      "[Parse(word='посвящается', tag=OpencorporaTag('VERB,impf,intr sing,3per,pres,indc'), normal_form='посвящаться', score=1.0, methods_stack=((<DictionaryAnalyzer>, 'посвящается', 224, 5),))]\n",
      "('', 'памяти', '')\n",
      "[Parse(word='памяти', tag=OpencorporaTag('NOUN,inan,femn sing,gent'), normal_form='память', score=0.4, methods_stack=((<DictionaryAnalyzer>, 'памяти', 13, 1),)), Parse(word='памяти', tag=OpencorporaTag('NOUN,inan,femn sing,loct'), normal_form='память', score=0.4, methods_stack=((<DictionaryAnalyzer>, 'памяти', 13, 5),)), Parse(word='памяти', tag=OpencorporaTag('NOUN,inan,femn sing,datv'), normal_form='память', score=0.1, methods_stack=((<DictionaryAnalyzer>, 'памяти', 13, 2),)), Parse(word='памяти', tag=OpencorporaTag('NOUN,inan,femn plur,nomn'), normal_form='память', score=0.05, methods_stack=((<DictionaryAnalyzer>, 'памяти', 13, 6),)), Parse(word='памяти', tag=OpencorporaTag('NOUN,inan,femn plur,accs'), normal_form='память', score=0.05, methods_stack=((<DictionaryAnalyzer>, 'памяти', 13, 9),))]\n",
      "('', 'Виссариона', '')\n",
      "[Parse(word='виссариона', tag=OpencorporaTag('NOUN,anim,masc,Name sing,gent'), normal_form='виссарион', score=0.5, methods_stack=((<DictionaryAnalyzer>, 'виссариона', 26, 1),)), Parse(word='виссариона', tag=OpencorporaTag('NOUN,anim,masc,Name sing,accs'), normal_form='виссарион', score=0.5, methods_stack=((<DictionaryAnalyzer>, 'виссариона', 26, 3),))]\n",
      "('', 'Григорьевича', '')\n",
      "[Parse(word='григорьевича', tag=OpencorporaTag('NOUN,anim,masc,Patr sing,gent'), normal_form='григорий', score=0.666666, methods_stack=((<DictionaryAnalyzer>, 'григорьевича', 61, 15),)), Parse(word='григорьевича', tag=OpencorporaTag('NOUN,anim,masc,Patr sing,accs'), normal_form='григорий', score=0.333333, methods_stack=((<DictionaryAnalyzer>, 'григорьевича', 61, 19),))]\n",
      "('', 'БЕЛИНСКОГО', '')\n",
      "MasterAndMargarita.txt\n",
      "('', 'МИХАИЛ', '')\n",
      "('', 'БУЛГАКОВ', '')\n",
      "('', 'МАСТЕР', '')\n",
      "('', 'И', '')\n",
      "('', 'МАРГАРИТА', '')\n",
      "EugeneOnegin.txt\n",
      "('', 'ЕВГЕНИЙ', '')\n",
      "('', 'ОНЕГИН', '')\n",
      "('', 'РОМАН', '')\n",
      "('', 'В', '')\n",
      "('', 'СТИХАХ', '')\n",
      "('', 'Не', '')\n",
      "[Parse(word='не', tag=OpencorporaTag('PRCL'), normal_form='не', score=1.0, methods_stack=((<DictionaryAnalyzer>, 'не', 22, 0),))]\n",
      "('', 'мысля', '')\n",
      "[Parse(word='мысля', tag=OpencorporaTag('GRND,impf,tran pres'), normal_form='мыслить', score=1.0, methods_stack=((<DictionaryAnalyzer>, 'мысля', 600, 121),))]\n",
      "('', 'гордый', '')\n",
      "[Parse(word='гордый', tag=OpencorporaTag('ADJF masc,sing,nomn'), normal_form='гордый', score=0.666666, methods_stack=((<DictionaryAnalyzer>, 'гордый', 188, 0),)), Parse(word='гордый', tag=OpencorporaTag('ADJF inan,masc,sing,accs'), normal_form='гордый', score=0.333333, methods_stack=((<DictionaryAnalyzer>, 'гордый', 188, 4),))]\n",
      "('', 'свет', '')\n",
      "[Parse(word='свет', tag=OpencorporaTag('NOUN,inan,masc,Sgtm sing,accs'), normal_form='свет', score=0.428571, methods_stack=((<DictionaryAnalyzer>, 'свет', 531, 4),)), Parse(word='свет', tag=OpencorporaTag('NOUN,anim,femn,Name plur,gent'), normal_form='света', score=0.142857, methods_stack=((<DictionaryAnalyzer>, 'свет', 227, 8),)), Parse(word='свет', tag=OpencorporaTag('NOUN,anim,femn,Name plur,accs'), normal_form='света', score=0.142857, methods_stack=((<DictionaryAnalyzer>, 'свет', 227, 10),)), Parse(word='свет', tag=OpencorporaTag('NOUN,anim,femn,Name sing,voct,Infr'), normal_form='света', score=0.142857, methods_stack=((<DictionaryAnalyzer>, 'свет', 227, 13),)), Parse(word='свет', tag=OpencorporaTag('NOUN,inan,masc,Sgtm sing,nomn'), normal_form='свет', score=0.142857, methods_stack=((<DictionaryAnalyzer>, 'свет', 531, 0),))]\n",
      "('', 'забавить', ',')\n",
      "[Parse(word='забавить', tag=OpencorporaTag('INFN,impf,tran'), normal_form='забавить', score=1.0, methods_stack=((<DictionaryAnalyzer>, 'забавить', 430, 0),))]\n",
      "('', 'Вниманье', '')\n",
      "[Parse(word='вниманье', tag=OpencorporaTag('NOUN,inan,neut sing,nomn,V-be'), normal_form='внимание', score=0.3333333333333333, methods_stack=((<DictionaryAnalyzer>, 'вниманье', 76, 1),)), Parse(word='вниманье', tag=OpencorporaTag('NOUN,inan,neut sing,accs,V-be'), normal_form='внимание', score=0.3333333333333333, methods_stack=((<DictionaryAnalyzer>, 'вниманье', 76, 7),)), Parse(word='вниманье', tag=OpencorporaTag('NOUN,inan,neut sing,loct,V-be'), normal_form='внимание', score=0.3333333333333333, methods_stack=((<DictionaryAnalyzer>, 'вниманье', 76, 11),))]\n",
      "('', 'дружбы', '')\n",
      "[Parse(word='дружбы', tag=OpencorporaTag('NOUN,inan,femn sing,gent'), normal_form='дружба', score=0.818181, methods_stack=((<DictionaryAnalyzer>, 'дружбы', 55, 1),)), Parse(word='дружбы', tag=OpencorporaTag('NOUN,inan,femn plur,nomn'), normal_form='дружба', score=0.090909, methods_stack=((<DictionaryAnalyzer>, 'дружбы', 55, 7),)), Parse(word='дружбы', tag=OpencorporaTag('NOUN,inan,femn plur,accs'), normal_form='дружба', score=0.090909, methods_stack=((<DictionaryAnalyzer>, 'дружбы', 55, 10),))]\n",
      "('', 'возлюбя', ',')\n",
      "[Parse(word='возлюбя', tag=OpencorporaTag('ADVB'), normal_form='возлюбя', score=0.4444444444444444, methods_stack=((<DictionaryAnalyzer>, 'любя', 3, 0), (<UnknownPrefixAnalyzer>, 'воз'))), Parse(word='возлюбя', tag=OpencorporaTag('GRND,impf,tran pres'), normal_form='возлюбить', score=0.4444444444444444, methods_stack=((<DictionaryAnalyzer>, 'любя', 1887, 121), (<UnknownPrefixAnalyzer>, 'воз'))), Parse(word='возлюбя', tag=OpencorporaTag('GRND,perf,tran past,Fimp'), normal_form='возлюбить', score=0.1111111111111111, methods_stack=((<FakeDictionary>, 'возлюбя', 818, 71), (<KnownSuffixAnalyzer>, 'любя')))]\n",
      "CrimeAndPunishment.txt\n",
      "('', 'ПРЕСТУПЛЕНИЕ', '')\n",
      "('', 'И', '')\n",
      "('', 'НАКАЗАНИЕ', '')\n",
      "('', 'РОМАН', '')\n",
      "('', 'В', '')\n",
      "('', 'ШЕСТИ', '')\n",
      "('', 'ЧАСТЯХ', '')\n",
      "('', 'С', '')\n",
      "('', 'ЭПИЛОГОМ', '')\n",
      "('', 'ЧАСТЬ', '')\n",
      "('', 'ПЕРВАЯ', '')\n",
      "WarAndPeace.txt\n",
      "('', 'Л', '.')\n",
      "('', 'Н', '.')\n",
      "('', 'Толстой', '')\n",
      "[Parse(word='толстой', tag=OpencorporaTag('NOUN,anim,masc,Sgtm,Surn sing,nomn'), normal_form='толстой', score=0.1111111111111111, methods_stack=((<DictionaryAnalyzer>, 'толстой', 2888, 0),)), Parse(word='толстой', tag=OpencorporaTag('NOUN,anim,femn,Sgtm,Surn sing,gent'), normal_form='толстой', score=0.1111111111111111, methods_stack=((<DictionaryAnalyzer>, 'толстой', 2888, 7),)), Parse(word='толстой', tag=OpencorporaTag('NOUN,anim,femn,Sgtm,Surn sing,datv'), normal_form='толстой', score=0.1111111111111111, methods_stack=((<DictionaryAnalyzer>, 'толстой', 2888, 8),)), Parse(word='толстой', tag=OpencorporaTag('NOUN,anim,femn,Sgtm,Surn sing,ablt'), normal_form='толстой', score=0.1111111111111111, methods_stack=((<DictionaryAnalyzer>, 'толстой', 2888, 10),)), Parse(word='толстой', tag=OpencorporaTag('NOUN,anim,femn,Sgtm,Surn sing,loct'), normal_form='толстой', score=0.1111111111111111, methods_stack=((<DictionaryAnalyzer>, 'толстой', 2888, 11),)), Parse(word='толстой', tag=OpencorporaTag('ADJF,Qual femn,sing,gent'), normal_form='толстый', score=0.1111111111111111, methods_stack=((<DictionaryAnalyzer>, 'толстой', 2890, 8),)), Parse(word='толстой', tag=OpencorporaTag('ADJF,Qual femn,sing,datv'), normal_form='толстый', score=0.1111111111111111, methods_stack=((<DictionaryAnalyzer>, 'толстой', 2890, 9),)), Parse(word='толстой', tag=OpencorporaTag('ADJF,Qual femn,sing,ablt'), normal_form='толстый', score=0.1111111111111111, methods_stack=((<DictionaryAnalyzer>, 'толстой', 2890, 11),)), Parse(word='толстой', tag=OpencorporaTag('ADJF,Qual femn,sing,loct'), normal_form='толстый', score=0.1111111111111111, methods_stack=((<DictionaryAnalyzer>, 'толстой', 2890, 13),))]\n",
      "('«', 'Война', '')\n",
      "[Parse(word='война', tag=OpencorporaTag('NOUN,inan,femn sing,nomn'), normal_form='война', score=1.0, methods_stack=((<DictionaryAnalyzer>, 'война', 55, 0),))]\n",
      "('', 'и', '')\n",
      "[Parse(word='и', tag=OpencorporaTag('CONJ'), normal_form='и', score=0.997671, methods_stack=((<DictionaryAnalyzer>, 'и', 20, 0),)), Parse(word='и', tag=OpencorporaTag('INTJ'), normal_form='и', score=0.000436, methods_stack=((<DictionaryAnalyzer>, 'и', 21, 0),)), Parse(word='и', tag=OpencorporaTag('PRCL'), normal_form='и', score=0.000145, methods_stack=((<DictionaryAnalyzer>, 'и', 22, 0),)), Parse(word='и', tag=OpencorporaTag('NOUN,anim,masc,Fixd,Abbr sing,nomn'), normal_form='исполняющий', score=0.000145, methods_stack=((<DictionaryAnalyzer>, 'и', 3144, 12),)), Parse(word='и', tag=OpencorporaTag('NOUN,anim,masc,Fixd,Abbr sing,gent'), normal_form='исполняющий', score=0.000145, methods_stack=((<DictionaryAnalyzer>, 'и', 3144, 13),)), Parse(word='и', tag=OpencorporaTag('NOUN,anim,masc,Fixd,Abbr sing,datv'), normal_form='исполняющий', score=0.000145, methods_stack=((<DictionaryAnalyzer>, 'и', 3144, 14),)), Parse(word='и', tag=OpencorporaTag('NOUN,anim,masc,Fixd,Abbr sing,accs'), normal_form='исполняющий', score=0.000145, methods_stack=((<DictionaryAnalyzer>, 'и', 3144, 15),)), Parse(word='и', tag=OpencorporaTag('NOUN,anim,masc,Fixd,Abbr sing,ablt'), normal_form='исполняющий', score=0.000145, methods_stack=((<DictionaryAnalyzer>, 'и', 3144, 16),)), Parse(word='и', tag=OpencorporaTag('NOUN,anim,masc,Fixd,Abbr sing,loct'), normal_form='исполняющий', score=0.000145, methods_stack=((<DictionaryAnalyzer>, 'и', 3144, 17),)), Parse(word='и', tag=OpencorporaTag('NOUN,anim,masc,Fixd,Abbr plur,nomn'), normal_form='исполняющий', score=0.000145, methods_stack=((<DictionaryAnalyzer>, 'и', 3144, 18),)), Parse(word='и', tag=OpencorporaTag('NOUN,anim,masc,Fixd,Abbr plur,gent'), normal_form='исполняющий', score=0.000145, methods_stack=((<DictionaryAnalyzer>, 'и', 3144, 19),)), Parse(word='и', tag=OpencorporaTag('NOUN,anim,masc,Fixd,Abbr plur,datv'), normal_form='исполняющий', score=0.000145, methods_stack=((<DictionaryAnalyzer>, 'и', 3144, 20),)), Parse(word='и', tag=OpencorporaTag('NOUN,anim,masc,Fixd,Abbr plur,accs'), normal_form='исполняющий', score=0.000145, methods_stack=((<DictionaryAnalyzer>, 'и', 3144, 21),)), Parse(word='и', tag=OpencorporaTag('NOUN,anim,masc,Fixd,Abbr plur,ablt'), normal_form='исполняющий', score=0.000145, methods_stack=((<DictionaryAnalyzer>, 'и', 3144, 22),)), Parse(word='и', tag=OpencorporaTag('NOUN,anim,masc,Fixd,Abbr plur,loct'), normal_form='исполняющий', score=0.000145, methods_stack=((<DictionaryAnalyzer>, 'и', 3144, 23),))]\n",
      "('', 'мир', '»')\n",
      "[Parse(word='мир', tag=OpencorporaTag('NOUN,inan,masc sing,accs'), normal_form='мир', score=0.666666, methods_stack=((<DictionaryAnalyzer>, 'мир', 1953, 3),)), Parse(word='мир', tag=OpencorporaTag('NOUN,inan,neut plur,gent'), normal_form='миро', score=0.166666, methods_stack=((<DictionaryAnalyzer>, 'мир', 54, 7),)), Parse(word='мир', tag=OpencorporaTag('NOUN,inan,masc sing,nomn'), normal_form='мир', score=0.166666, methods_stack=((<DictionaryAnalyzer>, 'мир', 1953, 0),))]\n"
     ]
    }
   ],
   "source": [
    "for fl in lst:\n",
    "    print (fl)\n",
    "    i = 0\n",
    "    f = open(pth_source + fl, 'r', encoding='utf-8')\n",
    "    for line in f:\n",
    "        new_line = []\n",
    "        i += 1\n",
    "        if i > 5:\n",
    "            break\n",
    "        line = line.strip()\n",
    "        words = line.split(' ')\n",
    "        for word in words:\n",
    "            struct = punct.findall(word)\n",
    "            if struct:\n",
    "                struct = struct[0]\n",
    "            else:\n",
    "                new_line.append(word)\n",
    "                continue\n",
    "            print (struct)\n",
    "            wordform = struct[1]\n",
    "            if wordform:\n",
    "                if capit.search(wordform):\n",
    "                    new_line.append(word)\n",
    "                    continue\n",
    "                parse_result = morph.parse(wordform)[0]\n",
    "                if 'NOUN' in parse_result.tag or 'VERB' in parse_result.tag or 'INFN' in parse_result.tag or 'ADJF' in in parse_result.tag:\n",
    "                    lex = parse_result.normal_form\n",
    "                    tags = parse_result.tag\n",
    "                    lex_neighb = search_neighbour(lex)\n",
    "                    if parse_result.tag.POS == 'NOUN' or parse_result.tag.POS == 'ADJF':\n",
    "                        if parse_result.tag.case == 'nomn' and parse_result.tag.number == 'sing':\n",
    "                            \n",
    "                        else:\n",
    "                            \n",
    "                    elif parse_result.tag.POS == 'INFN':\n",
    "                        \n",
    "                        \n",
    "                            \n",
    "                else:\n",
    "                    new_line.append(word)\n",
    "                print(parse_result)\n",
    "            else:\n",
    "                new_line.append(''.join(struct))\n",
    "            \n",
    "            \n",
    "            #print(morph.parse(line))\n",
    "        "
   ]
  },
  {
   "cell_type": "code",
   "execution_count": null,
   "metadata": {
    "collapsed": true
   },
   "outputs": [],
   "source": []
  }
 ],
 "metadata": {
  "kernelspec": {
   "display_name": "Python 3",
   "language": "python",
   "name": "python3"
  },
  "language_info": {
   "codemirror_mode": {
    "name": "ipython",
    "version": 3
   },
   "file_extension": ".py",
   "mimetype": "text/x-python",
   "name": "python",
   "nbconvert_exporter": "python",
   "pygments_lexer": "ipython3",
   "version": "3.4.2"
  }
 },
 "nbformat": 4,
 "nbformat_minor": 1
}
